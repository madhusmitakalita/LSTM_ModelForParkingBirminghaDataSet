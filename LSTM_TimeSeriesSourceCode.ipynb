{
 "cells": [
  {
   "cell_type": "code",
   "execution_count": 1,
   "metadata": {},
   "outputs": [
    {
     "name": "stderr",
     "output_type": "stream",
     "text": [
      "Using TensorFlow backend.\n"
     ]
    }
   ],
   "source": [
    "import sys \n",
    "import numpy as np # linear algebra\n",
    "from scipy.stats import randint\n",
    "import pandas as pd # data processing, CSV file I/O (e.g. pd.read_csv), data manipulation as in SQL\n",
    "import matplotlib.pyplot as plt # this is used for the plot the graph \n",
    "import seaborn as sns # used for plot interactive graph. \n",
    "from sklearn.model_selection import train_test_split # to split the data into two parts\n",
    "from sklearn.model_selection import KFold # use for cross validation\n",
    "from sklearn.preprocessing import StandardScaler # for normalization\n",
    "from sklearn.preprocessing import MinMaxScaler\n",
    "from sklearn.pipeline import Pipeline # pipeline making\n",
    "from sklearn.model_selection import cross_val_score\n",
    "from sklearn.feature_selection import SelectFromModel\n",
    "from sklearn import metrics # for the check the error and accuracy of the model\n",
    "from sklearn.metrics import mean_squared_error,r2_score\n",
    "\n",
    "import keras\n",
    "from keras.layers import Dense\n",
    "from keras.models import Sequential\n",
    "from keras.utils import to_categorical\n",
    "from keras.optimizers import SGD \n",
    "from keras.callbacks import EarlyStopping\n",
    "from keras.utils import np_utils\n",
    "import itertools\n",
    "from keras.layers import LSTM\n",
    "from keras.layers.convolutional import Conv1D\n",
    "from keras.layers.convolutional import MaxPooling1D\n",
    "from keras.layers import Dropout\n",
    "import matplotlib.pyplot as plt"
   ]
  },
  {
   "cell_type": "code",
   "execution_count": 2,
   "metadata": {},
   "outputs": [],
   "source": [
    "#reading the file\n",
    "df = pd.read_csv('dataset.csv')"
   ]
  },
  {
   "cell_type": "code",
   "execution_count": 3,
   "metadata": {},
   "outputs": [
    {
     "data": {
      "text/plain": [
       "SystemCodeNumber    object\n",
       "Capacity             int64\n",
       "Occupancy            int64\n",
       "LastUpdated         object\n",
       "dtype: object"
      ]
     },
     "execution_count": 3,
     "metadata": {},
     "output_type": "execute_result"
    }
   ],
   "source": [
    "df.dtypes"
   ]
  },
  {
   "cell_type": "code",
   "execution_count": 4,
   "metadata": {},
   "outputs": [
    {
     "data": {
      "text/html": [
       "<div>\n",
       "<style scoped>\n",
       "    .dataframe tbody tr th:only-of-type {\n",
       "        vertical-align: middle;\n",
       "    }\n",
       "\n",
       "    .dataframe tbody tr th {\n",
       "        vertical-align: top;\n",
       "    }\n",
       "\n",
       "    .dataframe thead th {\n",
       "        text-align: right;\n",
       "    }\n",
       "</style>\n",
       "<table border=\"1\" class=\"dataframe\">\n",
       "  <thead>\n",
       "    <tr style=\"text-align: right;\">\n",
       "      <th></th>\n",
       "      <th>SystemCodeNumber</th>\n",
       "      <th>Capacity</th>\n",
       "      <th>Occupancy</th>\n",
       "      <th>LastUpdated</th>\n",
       "    </tr>\n",
       "  </thead>\n",
       "  <tbody>\n",
       "    <tr>\n",
       "      <td>0</td>\n",
       "      <td>BHMBCCMKT01</td>\n",
       "      <td>577</td>\n",
       "      <td>61</td>\n",
       "      <td>2016-10-04 07:59:42</td>\n",
       "    </tr>\n",
       "    <tr>\n",
       "      <td>1</td>\n",
       "      <td>BHMBCCMKT01</td>\n",
       "      <td>577</td>\n",
       "      <td>64</td>\n",
       "      <td>2016-10-04 08:25:42</td>\n",
       "    </tr>\n",
       "    <tr>\n",
       "      <td>2</td>\n",
       "      <td>BHMBCCMKT01</td>\n",
       "      <td>577</td>\n",
       "      <td>80</td>\n",
       "      <td>2016-10-04 08:59:42</td>\n",
       "    </tr>\n",
       "    <tr>\n",
       "      <td>3</td>\n",
       "      <td>BHMBCCMKT01</td>\n",
       "      <td>577</td>\n",
       "      <td>107</td>\n",
       "      <td>2016-10-04 09:32:46</td>\n",
       "    </tr>\n",
       "    <tr>\n",
       "      <td>4</td>\n",
       "      <td>BHMBCCMKT01</td>\n",
       "      <td>577</td>\n",
       "      <td>150</td>\n",
       "      <td>2016-10-04 09:59:48</td>\n",
       "    </tr>\n",
       "  </tbody>\n",
       "</table>\n",
       "</div>"
      ],
      "text/plain": [
       "  SystemCodeNumber  Capacity  Occupancy          LastUpdated\n",
       "0      BHMBCCMKT01       577         61  2016-10-04 07:59:42\n",
       "1      BHMBCCMKT01       577         64  2016-10-04 08:25:42\n",
       "2      BHMBCCMKT01       577         80  2016-10-04 08:59:42\n",
       "3      BHMBCCMKT01       577        107  2016-10-04 09:32:46\n",
       "4      BHMBCCMKT01       577        150  2016-10-04 09:59:48"
      ]
     },
     "execution_count": 4,
     "metadata": {},
     "output_type": "execute_result"
    }
   ],
   "source": [
    "df.head()"
   ]
  },
  {
   "cell_type": "code",
   "execution_count": 5,
   "metadata": {},
   "outputs": [],
   "source": [
    "import datetime as dt\n",
    "df['LastUpdated'] = pd.to_datetime(df['LastUpdated'])"
   ]
  },
  {
   "cell_type": "code",
   "execution_count": 6,
   "metadata": {},
   "outputs": [
    {
     "data": {
      "text/plain": [
       "SystemCodeNumber            object\n",
       "Capacity                     int64\n",
       "Occupancy                    int64\n",
       "LastUpdated         datetime64[ns]\n",
       "dtype: object"
      ]
     },
     "execution_count": 6,
     "metadata": {},
     "output_type": "execute_result"
    }
   ],
   "source": [
    "df.dtypes"
   ]
  },
  {
   "cell_type": "code",
   "execution_count": 7,
   "metadata": {},
   "outputs": [
    {
     "data": {
      "text/plain": [
       "SystemCodeNumber    0\n",
       "Capacity            0\n",
       "Occupancy           0\n",
       "LastUpdated         0\n",
       "dtype: int64"
      ]
     },
     "execution_count": 7,
     "metadata": {},
     "output_type": "execute_result"
    }
   ],
   "source": [
    "df.isnull().sum()"
   ]
  },
  {
   "cell_type": "code",
   "execution_count": 8,
   "metadata": {},
   "outputs": [
    {
     "data": {
      "text/html": [
       "<div>\n",
       "<style scoped>\n",
       "    .dataframe tbody tr th:only-of-type {\n",
       "        vertical-align: middle;\n",
       "    }\n",
       "\n",
       "    .dataframe tbody tr th {\n",
       "        vertical-align: top;\n",
       "    }\n",
       "\n",
       "    .dataframe thead th {\n",
       "        text-align: right;\n",
       "    }\n",
       "</style>\n",
       "<table border=\"1\" class=\"dataframe\">\n",
       "  <thead>\n",
       "    <tr style=\"text-align: right;\">\n",
       "      <th></th>\n",
       "      <th>SystemCodeNumber</th>\n",
       "      <th>Capacity</th>\n",
       "      <th>Occupancy</th>\n",
       "      <th>LastUpdated</th>\n",
       "    </tr>\n",
       "  </thead>\n",
       "  <tbody>\n",
       "    <tr>\n",
       "      <td>0</td>\n",
       "      <td>BHMBCCMKT01</td>\n",
       "      <td>577</td>\n",
       "      <td>61</td>\n",
       "      <td>2016-10-04 07:59:42</td>\n",
       "    </tr>\n",
       "    <tr>\n",
       "      <td>1</td>\n",
       "      <td>BHMBCCMKT01</td>\n",
       "      <td>577</td>\n",
       "      <td>64</td>\n",
       "      <td>2016-10-04 08:25:42</td>\n",
       "    </tr>\n",
       "    <tr>\n",
       "      <td>2</td>\n",
       "      <td>BHMBCCMKT01</td>\n",
       "      <td>577</td>\n",
       "      <td>80</td>\n",
       "      <td>2016-10-04 08:59:42</td>\n",
       "    </tr>\n",
       "    <tr>\n",
       "      <td>3</td>\n",
       "      <td>BHMBCCMKT01</td>\n",
       "      <td>577</td>\n",
       "      <td>107</td>\n",
       "      <td>2016-10-04 09:32:46</td>\n",
       "    </tr>\n",
       "    <tr>\n",
       "      <td>4</td>\n",
       "      <td>BHMBCCMKT01</td>\n",
       "      <td>577</td>\n",
       "      <td>150</td>\n",
       "      <td>2016-10-04 09:59:48</td>\n",
       "    </tr>\n",
       "    <tr>\n",
       "      <td>...</td>\n",
       "      <td>...</td>\n",
       "      <td>...</td>\n",
       "      <td>...</td>\n",
       "      <td>...</td>\n",
       "    </tr>\n",
       "    <tr>\n",
       "      <td>35712</td>\n",
       "      <td>Shopping</td>\n",
       "      <td>1920</td>\n",
       "      <td>1517</td>\n",
       "      <td>2016-12-19 14:30:33</td>\n",
       "    </tr>\n",
       "    <tr>\n",
       "      <td>35713</td>\n",
       "      <td>Shopping</td>\n",
       "      <td>1920</td>\n",
       "      <td>1487</td>\n",
       "      <td>2016-12-19 15:03:34</td>\n",
       "    </tr>\n",
       "    <tr>\n",
       "      <td>35714</td>\n",
       "      <td>Shopping</td>\n",
       "      <td>1920</td>\n",
       "      <td>1432</td>\n",
       "      <td>2016-12-19 15:29:33</td>\n",
       "    </tr>\n",
       "    <tr>\n",
       "      <td>35715</td>\n",
       "      <td>Shopping</td>\n",
       "      <td>1920</td>\n",
       "      <td>1321</td>\n",
       "      <td>2016-12-19 16:03:35</td>\n",
       "    </tr>\n",
       "    <tr>\n",
       "      <td>35716</td>\n",
       "      <td>Shopping</td>\n",
       "      <td>1920</td>\n",
       "      <td>1180</td>\n",
       "      <td>2016-12-19 16:30:35</td>\n",
       "    </tr>\n",
       "  </tbody>\n",
       "</table>\n",
       "<p>35717 rows × 4 columns</p>\n",
       "</div>"
      ],
      "text/plain": [
       "      SystemCodeNumber  Capacity  Occupancy         LastUpdated\n",
       "0          BHMBCCMKT01       577         61 2016-10-04 07:59:42\n",
       "1          BHMBCCMKT01       577         64 2016-10-04 08:25:42\n",
       "2          BHMBCCMKT01       577         80 2016-10-04 08:59:42\n",
       "3          BHMBCCMKT01       577        107 2016-10-04 09:32:46\n",
       "4          BHMBCCMKT01       577        150 2016-10-04 09:59:48\n",
       "...                ...       ...        ...                 ...\n",
       "35712         Shopping      1920       1517 2016-12-19 14:30:33\n",
       "35713         Shopping      1920       1487 2016-12-19 15:03:34\n",
       "35714         Shopping      1920       1432 2016-12-19 15:29:33\n",
       "35715         Shopping      1920       1321 2016-12-19 16:03:35\n",
       "35716         Shopping      1920       1180 2016-12-19 16:30:35\n",
       "\n",
       "[35717 rows x 4 columns]"
      ]
     },
     "execution_count": 8,
     "metadata": {},
     "output_type": "execute_result"
    }
   ],
   "source": [
    "df.dropna()"
   ]
  },
  {
   "cell_type": "code",
   "execution_count": 9,
   "metadata": {},
   "outputs": [
    {
     "data": {
      "text/plain": [
       "Index(['SystemCodeNumber', 'Capacity', 'Occupancy', 'LastUpdated'], dtype='object')"
      ]
     },
     "execution_count": 9,
     "metadata": {},
     "output_type": "execute_result"
    }
   ],
   "source": [
    "df.columns"
   ]
  },
  {
   "cell_type": "markdown",
   "metadata": {},
   "source": [
    "# DATA Pre-Processing"
   ]
  },
  {
   "cell_type": "code",
   "execution_count": 10,
   "metadata": {},
   "outputs": [],
   "source": [
    "# making 'LastUpdated'asindex\n",
    "df= df.set_index('LastUpdated')"
   ]
  },
  {
   "cell_type": "code",
   "execution_count": 11,
   "metadata": {},
   "outputs": [],
   "source": [
    "#deleting the SystemCodeNumber\n",
    "del df['SystemCodeNumber']\n"
   ]
  },
  {
   "cell_type": "code",
   "execution_count": 12,
   "metadata": {},
   "outputs": [
    {
     "data": {
      "text/html": [
       "<div>\n",
       "<style scoped>\n",
       "    .dataframe tbody tr th:only-of-type {\n",
       "        vertical-align: middle;\n",
       "    }\n",
       "\n",
       "    .dataframe tbody tr th {\n",
       "        vertical-align: top;\n",
       "    }\n",
       "\n",
       "    .dataframe thead th {\n",
       "        text-align: right;\n",
       "    }\n",
       "</style>\n",
       "<table border=\"1\" class=\"dataframe\">\n",
       "  <thead>\n",
       "    <tr style=\"text-align: right;\">\n",
       "      <th></th>\n",
       "      <th>Occupancy</th>\n",
       "      <th>Capacity</th>\n",
       "    </tr>\n",
       "    <tr>\n",
       "      <th>LastUpdated</th>\n",
       "      <th></th>\n",
       "      <th></th>\n",
       "    </tr>\n",
       "  </thead>\n",
       "  <tbody>\n",
       "    <tr>\n",
       "      <td>2016-10-04 07:59:42</td>\n",
       "      <td>61</td>\n",
       "      <td>577</td>\n",
       "    </tr>\n",
       "    <tr>\n",
       "      <td>2016-10-04 08:25:42</td>\n",
       "      <td>64</td>\n",
       "      <td>577</td>\n",
       "    </tr>\n",
       "    <tr>\n",
       "      <td>2016-10-04 08:59:42</td>\n",
       "      <td>80</td>\n",
       "      <td>577</td>\n",
       "    </tr>\n",
       "    <tr>\n",
       "      <td>2016-10-04 09:32:46</td>\n",
       "      <td>107</td>\n",
       "      <td>577</td>\n",
       "    </tr>\n",
       "    <tr>\n",
       "      <td>2016-10-04 09:59:48</td>\n",
       "      <td>150</td>\n",
       "      <td>577</td>\n",
       "    </tr>\n",
       "  </tbody>\n",
       "</table>\n",
       "</div>"
      ],
      "text/plain": [
       "                     Occupancy  Capacity\n",
       "LastUpdated                             \n",
       "2016-10-04 07:59:42         61       577\n",
       "2016-10-04 08:25:42         64       577\n",
       "2016-10-04 08:59:42         80       577\n",
       "2016-10-04 09:32:46        107       577\n",
       "2016-10-04 09:59:48        150       577"
      ]
     },
     "execution_count": 12,
     "metadata": {},
     "output_type": "execute_result"
    }
   ],
   "source": [
    "\n",
    "df = df[['Occupancy','Capacity']]\n",
    "df.head()"
   ]
  },
  {
   "cell_type": "code",
   "execution_count": 13,
   "metadata": {},
   "outputs": [],
   "source": [
    "#resampling\n",
    "df_resample = df.resample('h').mean()\n"
   ]
  },
  {
   "cell_type": "code",
   "execution_count": 14,
   "metadata": {},
   "outputs": [
    {
     "data": {
      "text/plain": [
       "(1834, 2)"
      ]
     },
     "execution_count": 14,
     "metadata": {},
     "output_type": "execute_result"
    }
   ],
   "source": [
    "df_resample.shape"
   ]
  },
  {
   "cell_type": "markdown",
   "metadata": {},
   "source": [
    "# FUNCTION TO PREPARE OUR DATASETS CONSIDERING THE SEQUENCE:\n",
    "\n"
   ]
  },
  {
   "cell_type": "code",
   "execution_count": 15,
   "metadata": {},
   "outputs": [],
   "source": [
    "\n",
    "def seriesToSupervised(scaled, n_in=1, n_out=1, dropnan=True):\n",
    "    n_vars = 1 if type(scaled) is list else scaled.shape[1]\n",
    "    dff = pd.DataFrame(scaled)\n",
    "    cols, names = list(), list()\n",
    "    for i in range(n_in, 0, -1):\n",
    "        cols.append(dff.shift(-i))\n",
    "        names += [('var%d(t-%d)' % (j+1, i)) for j in range(n_vars)]\n",
    "    for i in range(0, n_out):\n",
    "        cols.append(dff.shift(-i))\n",
    "        if i==0:\n",
    "            names += [('var%d(t)' % (j+1)) for j in range(n_vars)]\n",
    "        else:\n",
    "            names += [('var%d(t+%d)' % (j+1)) for j in range(n_vars)]\n",
    "        \n",
    "        agg = pd.concat(cols, axis=1)\n",
    "        agg.columns = names\n",
    "        if dropnan:\n",
    "            agg.dropna(inplace=True)\n",
    "        return agg"
   ]
  },
  {
   "cell_type": "code",
   "execution_count": 16,
   "metadata": {},
   "outputs": [],
   "source": [
    "values = df_resample\n",
    "#normalize features\n",
    "scaler = MinMaxScaler(feature_range=(0, 1))\n",
    "scaled = scaler.fit_transform(values)\n",
    "reframed = seriesToSupervised(scaled, 1, 1)\n"
   ]
  },
  {
   "cell_type": "code",
   "execution_count": 17,
   "metadata": {},
   "outputs": [
    {
     "data": {
      "text/html": [
       "<div>\n",
       "<style scoped>\n",
       "    .dataframe tbody tr th:only-of-type {\n",
       "        vertical-align: middle;\n",
       "    }\n",
       "\n",
       "    .dataframe tbody tr th {\n",
       "        vertical-align: top;\n",
       "    }\n",
       "\n",
       "    .dataframe thead th {\n",
       "        text-align: right;\n",
       "    }\n",
       "</style>\n",
       "<table border=\"1\" class=\"dataframe\">\n",
       "  <thead>\n",
       "    <tr style=\"text-align: right;\">\n",
       "      <th></th>\n",
       "      <th>var1(t-1)</th>\n",
       "      <th>var2(t-1)</th>\n",
       "      <th>var1(t)</th>\n",
       "      <th>var2(t)</th>\n",
       "    </tr>\n",
       "  </thead>\n",
       "  <tbody>\n",
       "    <tr>\n",
       "      <td>0</td>\n",
       "      <td>0.357032</td>\n",
       "      <td>0.806859</td>\n",
       "      <td>0.223392</td>\n",
       "      <td>0.774194</td>\n",
       "    </tr>\n",
       "    <tr>\n",
       "      <td>1</td>\n",
       "      <td>0.524287</td>\n",
       "      <td>0.806859</td>\n",
       "      <td>0.357032</td>\n",
       "      <td>0.806859</td>\n",
       "    </tr>\n",
       "    <tr>\n",
       "      <td>2</td>\n",
       "      <td>0.649520</td>\n",
       "      <td>0.806859</td>\n",
       "      <td>0.524287</td>\n",
       "      <td>0.806859</td>\n",
       "    </tr>\n",
       "    <tr>\n",
       "      <td>3</td>\n",
       "      <td>0.732658</td>\n",
       "      <td>0.812816</td>\n",
       "      <td>0.649520</td>\n",
       "      <td>0.806859</td>\n",
       "    </tr>\n",
       "    <tr>\n",
       "      <td>4</td>\n",
       "      <td>0.761433</td>\n",
       "      <td>0.807930</td>\n",
       "      <td>0.732658</td>\n",
       "      <td>0.812816</td>\n",
       "    </tr>\n",
       "  </tbody>\n",
       "</table>\n",
       "</div>"
      ],
      "text/plain": [
       "   var1(t-1)  var2(t-1)   var1(t)   var2(t)\n",
       "0   0.357032   0.806859  0.223392  0.774194\n",
       "1   0.524287   0.806859  0.357032  0.806859\n",
       "2   0.649520   0.806859  0.524287  0.806859\n",
       "3   0.732658   0.812816  0.649520  0.806859\n",
       "4   0.761433   0.807930  0.732658  0.812816"
      ]
     },
     "execution_count": 17,
     "metadata": {},
     "output_type": "execute_result"
    }
   ],
   "source": [
    "\n",
    "reframed.head()\n",
    "\n",
    "\n",
    "\n"
   ]
  },
  {
   "cell_type": "code",
   "execution_count": 18,
   "metadata": {},
   "outputs": [],
   "source": [
    "# drop columns don't want to predict\n",
    "reframed.drop(reframed.columns[[2]], axis=1, inplace=True)\n"
   ]
  },
  {
   "cell_type": "code",
   "execution_count": 19,
   "metadata": {},
   "outputs": [
    {
     "data": {
      "text/html": [
       "<div>\n",
       "<style scoped>\n",
       "    .dataframe tbody tr th:only-of-type {\n",
       "        vertical-align: middle;\n",
       "    }\n",
       "\n",
       "    .dataframe tbody tr th {\n",
       "        vertical-align: top;\n",
       "    }\n",
       "\n",
       "    .dataframe thead th {\n",
       "        text-align: right;\n",
       "    }\n",
       "</style>\n",
       "<table border=\"1\" class=\"dataframe\">\n",
       "  <thead>\n",
       "    <tr style=\"text-align: right;\">\n",
       "      <th></th>\n",
       "      <th>var1(t-1)</th>\n",
       "      <th>var2(t-1)</th>\n",
       "      <th>var2(t)</th>\n",
       "    </tr>\n",
       "  </thead>\n",
       "  <tbody>\n",
       "    <tr>\n",
       "      <td>0</td>\n",
       "      <td>0.357032</td>\n",
       "      <td>0.806859</td>\n",
       "      <td>0.774194</td>\n",
       "    </tr>\n",
       "    <tr>\n",
       "      <td>1</td>\n",
       "      <td>0.524287</td>\n",
       "      <td>0.806859</td>\n",
       "      <td>0.806859</td>\n",
       "    </tr>\n",
       "    <tr>\n",
       "      <td>2</td>\n",
       "      <td>0.649520</td>\n",
       "      <td>0.806859</td>\n",
       "      <td>0.806859</td>\n",
       "    </tr>\n",
       "    <tr>\n",
       "      <td>3</td>\n",
       "      <td>0.732658</td>\n",
       "      <td>0.812816</td>\n",
       "      <td>0.806859</td>\n",
       "    </tr>\n",
       "    <tr>\n",
       "      <td>4</td>\n",
       "      <td>0.761433</td>\n",
       "      <td>0.807930</td>\n",
       "      <td>0.812816</td>\n",
       "    </tr>\n",
       "  </tbody>\n",
       "</table>\n",
       "</div>"
      ],
      "text/plain": [
       "   var1(t-1)  var2(t-1)   var2(t)\n",
       "0   0.357032   0.806859  0.774194\n",
       "1   0.524287   0.806859  0.806859\n",
       "2   0.649520   0.806859  0.806859\n",
       "3   0.732658   0.812816  0.806859\n",
       "4   0.761433   0.807930  0.812816"
      ]
     },
     "execution_count": 19,
     "metadata": {},
     "output_type": "execute_result"
    }
   ],
   "source": [
    "reframed.head()"
   ]
  },
  {
   "cell_type": "code",
   "execution_count": 20,
   "metadata": {},
   "outputs": [],
   "source": [
    "values = reframed.values\n",
    "\n",
    "#splitting the dataset 90:10 as total sample 639 \n",
    "\n",
    "n_train_time = 575\n",
    "train = values[:n_train_time, :]\n",
    "test = values[n_train_time:, :]\n",
    "train_x, train_y = train[:, :-1], train[:, -1]\n",
    "test_x, test_y = test[:, :-1], test[:, -1]\n",
    "train_x = train_x.reshape((train_x.shape[0], 1, train_x.shape[1]))\n",
    "test_x = test_x.reshape((test_x.shape[0], 1, test_x.shape[1]))"
   ]
  },
  {
   "cell_type": "code",
   "execution_count": 21,
   "metadata": {},
   "outputs": [
    {
     "data": {
      "text/plain": [
       "(64, 1, 2)"
      ]
     },
     "execution_count": 21,
     "metadata": {},
     "output_type": "execute_result"
    }
   ],
   "source": [
    "#train_x.shape\n",
    "test_x.shape"
   ]
  },
  {
   "cell_type": "markdown",
   "metadata": {},
   "source": [
    "# Creating the model"
   ]
  },
  {
   "cell_type": "code",
   "execution_count": 22,
   "metadata": {},
   "outputs": [],
   "source": [
    "model = Sequential()\n",
    "model.add(LSTM(120, input_shape=(train_x.shape[1], train_x.shape[2])))\n",
    "model.add(Dense(1))\n",
    "model.compile(loss='mae', optimizer='adam')"
   ]
  },
  {
   "cell_type": "code",
   "execution_count": 23,
   "metadata": {},
   "outputs": [
    {
     "name": "stdout",
     "output_type": "stream",
     "text": [
      "Model: \"sequential_1\"\n",
      "_________________________________________________________________\n",
      "Layer (type)                 Output Shape              Param #   \n",
      "=================================================================\n",
      "lstm_1 (LSTM)                (None, 120)               59040     \n",
      "_________________________________________________________________\n",
      "dense_1 (Dense)              (None, 1)                 121       \n",
      "=================================================================\n",
      "Total params: 59,161\n",
      "Trainable params: 59,161\n",
      "Non-trainable params: 0\n",
      "_________________________________________________________________\n"
     ]
    }
   ],
   "source": [
    "\n",
    "model.summary()"
   ]
  },
  {
   "cell_type": "code",
   "execution_count": 24,
   "metadata": {},
   "outputs": [
    {
     "name": "stdout",
     "output_type": "stream",
     "text": [
      "Train on 575 samples, validate on 64 samples\n",
      "Epoch 1/100\n",
      " - 0s - loss: 0.7496 - val_loss: 0.6830\n",
      "Epoch 2/100\n",
      " - 0s - loss: 0.6612 - val_loss: 0.5917\n",
      "Epoch 3/100\n",
      " - 0s - loss: 0.5709 - val_loss: 0.4958\n",
      "Epoch 4/100\n",
      " - 0s - loss: 0.4740 - val_loss: 0.3924\n",
      "Epoch 5/100\n",
      " - 0s - loss: 0.3660 - val_loss: 0.2752\n",
      "Epoch 6/100\n",
      " - 0s - loss: 0.2430 - val_loss: 0.1399\n",
      "Epoch 7/100\n",
      " - 0s - loss: 0.1130 - val_loss: 0.0903\n",
      "Epoch 8/100\n",
      " - 0s - loss: 0.0909 - val_loss: 0.1216\n",
      "Epoch 9/100\n",
      " - 0s - loss: 0.0805 - val_loss: 0.0778\n",
      "Epoch 10/100\n",
      " - 0s - loss: 0.0706 - val_loss: 0.0678\n",
      "Epoch 11/100\n",
      " - 0s - loss: 0.0722 - val_loss: 0.0757\n",
      "Epoch 12/100\n",
      " - 0s - loss: 0.0695 - val_loss: 0.0791\n",
      "Epoch 13/100\n",
      " - 0s - loss: 0.0671 - val_loss: 0.0706\n",
      "Epoch 14/100\n",
      " - 0s - loss: 0.0667 - val_loss: 0.0696\n",
      "Epoch 15/100\n",
      " - 0s - loss: 0.0659 - val_loss: 0.0706\n",
      "Epoch 16/100\n",
      " - 0s - loss: 0.0647 - val_loss: 0.0685\n",
      "Epoch 17/100\n",
      " - 0s - loss: 0.0639 - val_loss: 0.0681\n",
      "Epoch 18/100\n",
      " - 0s - loss: 0.0630 - val_loss: 0.0674\n",
      "Epoch 19/100\n",
      " - 0s - loss: 0.0620 - val_loss: 0.0657\n",
      "Epoch 20/100\n",
      " - 0s - loss: 0.0613 - val_loss: 0.0652\n",
      "Epoch 21/100\n",
      " - 0s - loss: 0.0603 - val_loss: 0.0642\n",
      "Epoch 22/100\n",
      " - 0s - loss: 0.0595 - val_loss: 0.0635\n",
      "Epoch 23/100\n",
      " - 0s - loss: 0.0585 - val_loss: 0.0622\n",
      "Epoch 24/100\n",
      " - 0s - loss: 0.0577 - val_loss: 0.0619\n",
      "Epoch 25/100\n",
      " - 0s - loss: 0.0567 - val_loss: 0.0599\n",
      "Epoch 26/100\n",
      " - 0s - loss: 0.0558 - val_loss: 0.0590\n",
      "Epoch 27/100\n",
      " - 0s - loss: 0.0549 - val_loss: 0.0581\n",
      "Epoch 28/100\n",
      " - 0s - loss: 0.0541 - val_loss: 0.0570\n",
      "Epoch 29/100\n",
      " - 0s - loss: 0.0532 - val_loss: 0.0560\n",
      "Epoch 30/100\n",
      " - 0s - loss: 0.0525 - val_loss: 0.0556\n",
      "Epoch 31/100\n",
      " - 0s - loss: 0.0517 - val_loss: 0.0547\n",
      "Epoch 32/100\n",
      " - 0s - loss: 0.0510 - val_loss: 0.0538\n",
      "Epoch 33/100\n",
      " - 0s - loss: 0.0503 - val_loss: 0.0534\n",
      "Epoch 34/100\n",
      " - 0s - loss: 0.0497 - val_loss: 0.0526\n",
      "Epoch 35/100\n",
      " - 0s - loss: 0.0491 - val_loss: 0.0523\n",
      "Epoch 36/100\n",
      " - 0s - loss: 0.0487 - val_loss: 0.0514\n",
      "Epoch 37/100\n",
      " - 0s - loss: 0.0483 - val_loss: 0.0518\n",
      "Epoch 38/100\n",
      " - 0s - loss: 0.0481 - val_loss: 0.0510\n",
      "Epoch 39/100\n",
      " - 0s - loss: 0.0477 - val_loss: 0.0505\n",
      "Epoch 40/100\n",
      " - 0s - loss: 0.0475 - val_loss: 0.0509\n",
      "Epoch 41/100\n",
      " - 0s - loss: 0.0474 - val_loss: 0.0502\n",
      "Epoch 42/100\n",
      " - 0s - loss: 0.0471 - val_loss: 0.0503\n",
      "Epoch 43/100\n",
      " - 0s - loss: 0.0469 - val_loss: 0.0505\n",
      "Epoch 44/100\n",
      " - 0s - loss: 0.0468 - val_loss: 0.0506\n",
      "Epoch 45/100\n",
      " - 0s - loss: 0.0468 - val_loss: 0.0503\n",
      "Epoch 46/100\n",
      " - 0s - loss: 0.0467 - val_loss: 0.0500\n",
      "Epoch 47/100\n",
      " - 0s - loss: 0.0468 - val_loss: 0.0496\n",
      "Epoch 48/100\n",
      " - 0s - loss: 0.0467 - val_loss: 0.0501\n",
      "Epoch 49/100\n",
      " - 0s - loss: 0.0466 - val_loss: 0.0508\n",
      "Epoch 50/100\n",
      " - 0s - loss: 0.0469 - val_loss: 0.0505\n",
      "Epoch 51/100\n",
      " - 0s - loss: 0.0469 - val_loss: 0.0508\n",
      "Epoch 52/100\n",
      " - 0s - loss: 0.0468 - val_loss: 0.0503\n",
      "Epoch 53/100\n",
      " - 0s - loss: 0.0468 - val_loss: 0.0512\n",
      "Epoch 54/100\n",
      " - 0s - loss: 0.0469 - val_loss: 0.0499\n",
      "Epoch 55/100\n",
      " - 0s - loss: 0.0464 - val_loss: 0.0500\n",
      "Epoch 56/100\n",
      " - 0s - loss: 0.0466 - val_loss: 0.0498\n",
      "Epoch 57/100\n",
      " - 0s - loss: 0.0465 - val_loss: 0.0497\n",
      "Epoch 58/100\n",
      " - 0s - loss: 0.0466 - val_loss: 0.0496\n",
      "Epoch 59/100\n",
      " - 0s - loss: 0.0466 - val_loss: 0.0500\n",
      "Epoch 60/100\n",
      " - 0s - loss: 0.0465 - val_loss: 0.0507\n",
      "Epoch 61/100\n",
      " - 0s - loss: 0.0467 - val_loss: 0.0501\n",
      "Epoch 62/100\n",
      " - 0s - loss: 0.0467 - val_loss: 0.0509\n",
      "Epoch 63/100\n",
      " - 0s - loss: 0.0468 - val_loss: 0.0499\n",
      "Epoch 64/100\n",
      " - 0s - loss: 0.0463 - val_loss: 0.0499\n",
      "Epoch 65/100\n",
      " - 0s - loss: 0.0466 - val_loss: 0.0510\n",
      "Epoch 66/100\n",
      " - 0s - loss: 0.0468 - val_loss: 0.0514\n",
      "Epoch 67/100\n",
      " - 0s - loss: 0.0472 - val_loss: 0.0519\n",
      "Epoch 68/100\n",
      " - 0s - loss: 0.0484 - val_loss: 0.0494\n",
      "Epoch 69/100\n",
      " - 0s - loss: 0.0462 - val_loss: 0.0499\n",
      "Epoch 70/100\n",
      " - 0s - loss: 0.0465 - val_loss: 0.0509\n",
      "Epoch 71/100\n",
      " - 0s - loss: 0.0468 - val_loss: 0.0502\n",
      "Epoch 72/100\n",
      " - 0s - loss: 0.0466 - val_loss: 0.0504\n",
      "Epoch 73/100\n",
      " - 0s - loss: 0.0466 - val_loss: 0.0498\n",
      "Epoch 74/100\n",
      " - 0s - loss: 0.0463 - val_loss: 0.0498\n",
      "Epoch 75/100\n",
      " - 0s - loss: 0.0465 - val_loss: 0.0506\n",
      "Epoch 76/100\n",
      " - 0s - loss: 0.0467 - val_loss: 0.0513\n",
      "Epoch 77/100\n",
      " - 0s - loss: 0.0471 - val_loss: 0.0517\n",
      "Epoch 78/100\n",
      " - 0s - loss: 0.0482 - val_loss: 0.0493\n",
      "Epoch 79/100\n",
      " - 0s - loss: 0.0461 - val_loss: 0.0499\n",
      "Epoch 80/100\n",
      " - 0s - loss: 0.0464 - val_loss: 0.0496\n",
      "Epoch 81/100\n",
      " - 0s - loss: 0.0463 - val_loss: 0.0497\n",
      "Epoch 82/100\n",
      " - 0s - loss: 0.0462 - val_loss: 0.0496\n",
      "Epoch 83/100\n",
      " - 0s - loss: 0.0461 - val_loss: 0.0495\n",
      "Epoch 84/100\n",
      " - 0s - loss: 0.0461 - val_loss: 0.0497\n",
      "Epoch 85/100\n",
      " - 0s - loss: 0.0464 - val_loss: 0.0502\n",
      "Epoch 86/100\n",
      " - 0s - loss: 0.0466 - val_loss: 0.0513\n",
      "Epoch 87/100\n",
      " - 0s - loss: 0.0471 - val_loss: 0.0514\n",
      "Epoch 88/100\n",
      " - 0s - loss: 0.0480 - val_loss: 0.0493\n",
      "Epoch 89/100\n",
      " - 0s - loss: 0.0460 - val_loss: 0.0505\n",
      "Epoch 90/100\n",
      " - 0s - loss: 0.0466 - val_loss: 0.0510\n",
      "Epoch 91/100\n",
      " - 0s - loss: 0.0471 - val_loss: 0.0502\n",
      "Epoch 92/100\n",
      " - 0s - loss: 0.0467 - val_loss: 0.0503\n",
      "Epoch 93/100\n",
      " - 0s - loss: 0.0467 - val_loss: 0.0506\n",
      "Epoch 94/100\n",
      " - 0s - loss: 0.0470 - val_loss: 0.0499\n",
      "Epoch 95/100\n",
      " - 0s - loss: 0.0465 - val_loss: 0.0499\n",
      "Epoch 96/100\n",
      " - 0s - loss: 0.0463 - val_loss: 0.0502\n",
      "Epoch 97/100\n",
      " - 0s - loss: 0.0464 - val_loss: 0.0503\n",
      "Epoch 98/100\n",
      " - 0s - loss: 0.0465 - val_loss: 0.0510\n",
      "Epoch 99/100\n",
      " - 0s - loss: 0.0471 - val_loss: 0.0501\n",
      "Epoch 100/100\n",
      " - 0s - loss: 0.0466 - val_loss: 0.0501\n"
     ]
    }
   ],
   "source": [
    "import matplotlib.pyplot \n",
    "\n",
    "# model fit\n",
    "history = model.fit(train_x, train_y, epochs=100, batch_size=72, validation_data=(test_x, test_y),\n",
    "                    verbose=2, shuffle=False)\n",
    "\n",
    "\n",
    "\n"
   ]
  },
  {
   "cell_type": "code",
   "execution_count": 25,
   "metadata": {},
   "outputs": [
    {
     "data": {
      "text/plain": [
       "<matplotlib.legend.Legend at 0x1a39469350>"
      ]
     },
     "execution_count": 25,
     "metadata": {},
     "output_type": "execute_result"
    },
    {
     "data": {
      "image/png": "[encoded data removed]",
      "text/plain": [
       "<Figure size 432x288 with 1 Axes>"
      ]
     },
     "metadata": {
      "needs_background": "light"
     },
     "output_type": "display_data"
    }
   ],
   "source": [
    "from math import sqrt\n",
    "from numpy import concatenate\n",
    "from matplotlib import pyplot\n",
    "from pandas import read_csv\n",
    "from pandas import DataFrame\n",
    "from pandas import concat\n",
    "from sklearn.preprocessing import MinMaxScaler\n",
    "from sklearn.preprocessing import LabelEncoder\n",
    "from sklearn.metrics import mean_squared_error\n",
    "from keras.models import Sequential\n",
    "from keras.layers import Dense\n",
    "from keras.layers import LSTM\n",
    "\n",
    "# ploting the loss for train & test\n",
    "pyplot.plot(history.history['loss'], label='train')\n",
    "pyplot.plot(history.history['val_loss'], label='test')\n",
    "pyplot.legend()"
   ]
  },
  {
   "cell_type": "code",
   "execution_count": 26,
   "metadata": {},
   "outputs": [
    {
     "name": "stdout",
     "output_type": "stream",
     "text": [
      "Test RMSE: 171.612\n"
     ]
    }
   ],
   "source": [
    "#PRedicitng & calculaitng RMSE\n",
    "yhat = model.predict(test_x)\n",
    "test_x = test_x.reshape((test_x.shape[0], test_x.shape[2]))\n",
    "# invert scaling for forecast\n",
    "inv_yhat = concatenate((yhat, test_x[:, 1:]), axis=1)\n",
    "inv_yhat = scaler.inverse_transform(inv_yhat)\n",
    "inv_yhat = inv_yhat[:,0]\n",
    "# invert scaling for actual\n",
    "test_y = test_y.reshape((len(test_y), 1))\n",
    "inv_y = concatenate((test_y, test_x[:, 1:]), axis=1)\n",
    "inv_y = scaler.inverse_transform(inv_y)\n",
    "inv_y = inv_y[:,0]\n",
    "# calculate RMSE\n",
    "rmse = sqrt(mean_squared_error(inv_y, inv_yhat))\n",
    "print('Test RMSE: %.3f' % rmse)"
   ]
  },
  {
   "cell_type": "code",
   "execution_count": 30,
   "metadata": {},
   "outputs": [
    {
     "data": {
      "image/png": "[encoded data removed]",
      "text/plain": [
       "<Figure size 720x360 with 1 Axes>"
      ]
     },
     "metadata": {
      "needs_background": "light"
     },
     "output_type": "display_data"
    }
   ],
   "source": [
    "#Showing the actual & prediction results\n",
    "aa=[x for x in range(64)]\n",
    "plt.figure(figsize = (10, 5))\n",
    "plt.plot(aa, inv_y[:64], marker='.', label=\"actual\")\n",
    "plt.plot(aa, inv_yhat[:64], 'r', label=\"prediction\")\n",
    "plt.ylabel('Occupancy', size=15)\n",
    "plt.xlabel('Time step', size=15)\n",
    "plt.legend(fontsize=15)\n",
    "plt.show()"
   ]
  },
  {
   "cell_type": "code",
   "execution_count": null,
   "metadata": {},
   "outputs": [],
   "source": []
  }
 ],
 "metadata": {
  "kernelspec": {
   "display_name": "Python 3",
   "language": "python",
   "name": "python3"
  },
  "language_info": {
   "codemirror_mode": {
    "name": "ipython",
    "version": 3
   },
   "file_extension": ".py",
   "mimetype": "text/x-python",
   "name": "python",
   "nbconvert_exporter": "python",
   "pygments_lexer": "ipython3",
   "version": "3.7.4"
  }
 },
 "nbformat": 4,
 "nbformat_minor": 2
}
